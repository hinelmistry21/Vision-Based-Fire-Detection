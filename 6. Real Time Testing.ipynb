{
 "cells": [
  {
   "cell_type": "code",
   "execution_count": 1,
   "metadata": {},
   "outputs": [
    {
     "name": "stdout",
     "output_type": "stream",
     "text": [
      "0.56763655\n",
      "0.5268112\n",
      "0.52540267\n",
      "0.52149385\n",
      "0.5459504\n"
     ]
    }
   ],
   "source": [
    "import cv2\n",
    "import numpy as np\n",
    "from PIL import Image\n",
    "import tensorflow as tf\n",
    "from keras.preprocessing import image\n",
    "from playsound import playsound\n",
    "#Load the saved model\n",
    "model = tf.keras.models.load_model('Trained Models/CNN_model.h5')\n",
    "temp = 0\n",
    "video = cv2.VideoCapture(0)\n",
    "while True:\n",
    "    _, frame = video.read()\n",
    "    #Convert the captured frame into RGB\n",
    "    im = Image.fromarray(frame, 'RGB')\n",
    "    #Resizing into 224x224 because we trained the model with this image size.\n",
    "    im = im.resize((224,224))\n",
    "    img_array = image.img_to_array(im)\n",
    "    img_array = np.expand_dims(img_array, axis=0) / 255\n",
    "    probabilities = model.predict(img_array)[0]\n",
    "    \n",
    "    if (temp==0):\n",
    "        #Calling the predict method on model to predict 'fire' on the image\n",
    "        prediction = np.argmax(probabilities)\n",
    "    \n",
    "        #if prediction is 0, which means there is fire in the frame.\n",
    "        if prediction == 0:\n",
    "            frame = cv2.cvtColor(frame, cv2.COLOR_RGB2GRAY)\n",
    "            playsound(\"Warning Beep.mp3\")\n",
    "            print(probabilities[prediction])\n",
    "            temp += 1\n",
    "                \n",
    "    else:\n",
    "        frame = cv2.cvtColor(frame, cv2.COLOR_RGB2GRAY)\n",
    "        temp += 1\n",
    "        \n",
    "        #Calling the predict method on model to predict 'fire' on the image\n",
    "        prediction = np.argmax(probabilities)\n",
    "        \n",
    "        #if prediction is 0, which means there is fire in the frame.\n",
    "        if prediction == 0:\n",
    "            print(probabilities[prediction])\n",
    "        \n",
    "        if(temp == 31):\n",
    "                temp = 0\n",
    "\n",
    "    cv2.imshow(\"Capturing\", frame)\n",
    "    key=cv2.waitKey(1)\n",
    "    if key == ord('q'):\n",
    "        break\n",
    "video.release()\n",
    "cv2.destroyAllWindows()"
   ]
  },
  {
   "cell_type": "code",
   "execution_count": null,
   "metadata": {},
   "outputs": [],
   "source": []
  }
 ],
 "metadata": {
  "kernelspec": {
   "display_name": "Python 3",
   "language": "python",
   "name": "python3"
  },
  "language_info": {
   "codemirror_mode": {
    "name": "ipython",
    "version": 3
   },
   "file_extension": ".py",
   "mimetype": "text/x-python",
   "name": "python",
   "nbconvert_exporter": "python",
   "pygments_lexer": "ipython3",
   "version": "3.6.4"
  }
 },
 "nbformat": 4,
 "nbformat_minor": 4
}
