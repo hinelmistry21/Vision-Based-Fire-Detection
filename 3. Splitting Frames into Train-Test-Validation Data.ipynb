{
 "cells": [
  {
   "cell_type": "code",
   "execution_count": 1,
   "metadata": {},
   "outputs": [],
   "source": [
    "# Required Libraries\n",
    "\n",
    "import os\n",
    "import shutil"
   ]
  },
  {
   "cell_type": "code",
   "execution_count": 2,
   "metadata": {},
   "outputs": [],
   "source": [
    "# Splitting images into train, test, valid dataset\n",
    "\n",
    "# Frames File directory\n",
    "directory = 'D:\\Deep Learning\\Fire Guard\\Dataset\\Frames'\n",
    "\n",
    "frame_names = os.listdir(directory)\n",
    "\n",
    "train = []\n",
    "test = []\n",
    "valid = []\n",
    "\n",
    "for i in range(len(frame_names)):\n",
    "    if(i%10 < 7):\n",
    "        train.append(frame_names[i])\n",
    "    elif(i % 10 == 7 or i % 10 == 8):\n",
    "        test.append(frame_names[i])\n",
    "    else:\n",
    "        valid.append(frame_names[i])"
   ]
  },
  {
   "cell_type": "code",
   "execution_count": 3,
   "metadata": {},
   "outputs": [
    {
     "name": "stdout",
     "output_type": "stream",
     "text": [
      "Length of Data :  843\n"
     ]
    }
   ],
   "source": [
    "print(\"Length of Data : \", len(frame_names))"
   ]
  },
  {
   "cell_type": "code",
   "execution_count": 4,
   "metadata": {},
   "outputs": [
    {
     "name": "stdout",
     "output_type": "stream",
     "text": [
      "Length of Fire Training Data   :  591\n",
      "Length of Fire Testing Data    :  168\n",
      "Length of Fire Validation Data :  84\n"
     ]
    }
   ],
   "source": [
    "print(\"Length of Fire Training Data   : \", len(train))\n",
    "print(\"Length of Fire Testing Data    : \", len(test))\n",
    "print(\"Length of Fire Validation Data : \", len(valid))"
   ]
  },
  {
   "cell_type": "code",
   "execution_count": 5,
   "metadata": {},
   "outputs": [],
   "source": [
    "# Moving Training Data\n",
    "\n",
    "for frame in train:\n",
    "    \n",
    "    # Source path  \n",
    "    source = 'D:/Deep Learning/Fire Guard/Dataset/Frames/' + frame\n",
    "  \n",
    "    # Destination path  \n",
    "    destination = 'D:/Deep Learning/Fire Guard/Dataset/Tr/' + frame\n",
    "    \n",
    "    shutil.move(source, destination)"
   ]
  },
  {
   "cell_type": "code",
   "execution_count": 6,
   "metadata": {},
   "outputs": [],
   "source": [
    "# Moving Testing Data\n",
    "\n",
    "for frame in test:\n",
    "    \n",
    "    # Source path  \n",
    "    source = 'D:/Deep Learning/Fire Guard/Dataset/Frames/' + frame\n",
    "  \n",
    "    # Destination path  \n",
    "    destination = 'D:/Deep Learning/Fire Guard/Dataset/Te/' + frame\n",
    "    \n",
    "    shutil.move(source, destination)"
   ]
  },
  {
   "cell_type": "code",
   "execution_count": 7,
   "metadata": {},
   "outputs": [],
   "source": [
    "# Moving Validation Data\n",
    "\n",
    "for frame in valid:\n",
    "    \n",
    "    # Source path  \n",
    "    source = 'D:/Deep Learning/Fire Guard/Dataset/Frames/' + frame\n",
    "  \n",
    "    # Destination path  \n",
    "    destination = 'D:/Deep Learning/Fire Guard/Dataset/Va/' + frame\n",
    "    \n",
    "    shutil.move(source, destination)"
   ]
  },
  {
   "cell_type": "code",
   "execution_count": null,
   "metadata": {},
   "outputs": [],
   "source": []
  }
 ],
 "metadata": {
  "kernelspec": {
   "display_name": "Python 3",
   "language": "python",
   "name": "python3"
  },
  "language_info": {
   "codemirror_mode": {
    "name": "ipython",
    "version": 3
   },
   "file_extension": ".py",
   "mimetype": "text/x-python",
   "name": "python",
   "nbconvert_exporter": "python",
   "pygments_lexer": "ipython3",
   "version": "3.6.4"
  }
 },
 "nbformat": 4,
 "nbformat_minor": 4
}
