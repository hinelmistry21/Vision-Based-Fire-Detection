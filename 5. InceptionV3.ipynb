{
 "cells": [
  {
   "cell_type": "code",
   "execution_count": 1,
   "metadata": {},
   "outputs": [
    {
     "name": "stdout",
     "output_type": "stream",
     "text": [
      "Found 38659 images belonging to 2 classes.\n",
      "Found 9666 images belonging to 2 classes.\n"
     ]
    }
   ],
   "source": [
    "import tensorflow as tf\n",
    "import keras_preprocessing\n",
    "from keras_preprocessing import image\n",
    "from keras_preprocessing.image import ImageDataGenerator\n",
    "\n",
    "TRAINING_DIR = \"D:\\Deep Learning\\Fire Guard\\Dataset\\Train\"\n",
    "training_datagen = ImageDataGenerator(rescale=1./255,\n",
    "                                      zoom_range=0.15,\n",
    "                                      horizontal_flip=True,\n",
    "                                      fill_mode='nearest')\n",
    "\n",
    "VALIDATION_DIR = \"D:\\Deep Learning\\Fire Guard\\Dataset\\Valid\"\n",
    "validation_datagen = ImageDataGenerator(rescale = 1./255)\n",
    "\n",
    "train_generator = training_datagen.flow_from_directory(TRAINING_DIR,\n",
    "                                                       target_size=(224,224),\n",
    "                                                       shuffle = True,\n",
    "                                                       class_mode='categorical',\n",
    "                                                       batch_size = 128)\n",
    "\n",
    "validation_generator = validation_datagen.flow_from_directory(VALIDATION_DIR,\n",
    "                                                              target_size=(224,224),\n",
    "                                                              class_mode='categorical',\n",
    "                                                              shuffle = True,\n",
    "                                                              batch_size= 14)"
   ]
  },
  {
   "cell_type": "code",
   "execution_count": 2,
   "metadata": {},
   "outputs": [
    {
     "name": "stdout",
     "output_type": "stream",
     "text": [
      "Downloading data from https://storage.googleapis.com/tensorflow/keras-applications/inception_v3/inception_v3_weights_tf_dim_ordering_tf_kernels_notop.h5\n",
      "87916544/87910968 [==============================] - 20s 0us/step\n",
      "Epoch 1/20\n",
      "14/14 [==============================] - 114s 8s/step - loss: 4.9917 - acc: 0.7388 - val_loss: 0.3622 - val_acc: 0.8622\n",
      "Epoch 2/20\n",
      "14/14 [==============================] - 106s 8s/step - loss: 0.2708 - acc: 0.9146 - val_loss: 0.0441 - val_acc: 0.9949\n",
      "Epoch 3/20\n",
      "14/14 [==============================] - 106s 8s/step - loss: 0.1259 - acc: 0.9526 - val_loss: 0.2938 - val_acc: 0.8724\n",
      "Epoch 4/20\n",
      "14/14 [==============================] - 110s 8s/step - loss: 0.2638 - acc: 0.9347 - val_loss: 0.0196 - val_acc: 0.9847\n",
      "Epoch 5/20\n",
      "14/14 [==============================] - 104s 7s/step - loss: 0.0497 - acc: 0.9849 - val_loss: 0.0268 - val_acc: 0.9898\n",
      "Epoch 6/20\n",
      "14/14 [==============================] - 104s 7s/step - loss: 0.1188 - acc: 0.9671 - val_loss: 0.0083 - val_acc: 0.9949\n",
      "Epoch 7/20\n",
      "14/14 [==============================] - 108s 8s/step - loss: 0.1855 - acc: 0.9609 - val_loss: 0.3032 - val_acc: 0.9031\n",
      "Epoch 8/20\n",
      "14/14 [==============================] - 103s 7s/step - loss: 0.0629 - acc: 0.9771 - val_loss: 0.0047 - val_acc: 1.0000\n",
      "Epoch 9/20\n",
      "14/14 [==============================] - 105s 8s/step - loss: 0.0623 - acc: 0.9799 - val_loss: 0.2097 - val_acc: 0.9235\n",
      "Epoch 10/20\n",
      "14/14 [==============================] - 110s 8s/step - loss: 0.0441 - acc: 0.9827 - val_loss: 1.5244 - val_acc: 0.8265\n",
      "Epoch 11/20\n",
      "14/14 [==============================] - 115s 8s/step - loss: 0.1127 - acc: 0.9838 - val_loss: 1.8895e-04 - val_acc: 1.0000\n",
      "Epoch 12/20\n",
      "14/14 [==============================] - 115s 8s/step - loss: 3.1343e-04 - acc: 1.0000 - val_loss: 0.0123 - val_acc: 0.9949\n",
      "Epoch 13/20\n",
      "14/14 [==============================] - 111s 8s/step - loss: 0.6089 - acc: 0.9308 - val_loss: 0.0111 - val_acc: 0.9949\n",
      "Epoch 14/20\n",
      "14/14 [==============================] - 115s 8s/step - loss: 0.0046 - acc: 0.9994 - val_loss: 0.0012 - val_acc: 1.0000\n",
      "Epoch 15/20\n",
      "14/14 [==============================] - 124s 9s/step - loss: 0.1342 - acc: 0.9704 - val_loss: 0.7166 - val_acc: 0.8724\n",
      "Epoch 16/20\n",
      "14/14 [==============================] - 106s 8s/step - loss: 0.1215 - acc: 0.9826 - val_loss: 7.5646e-05 - val_acc: 1.0000\n",
      "Epoch 17/20\n",
      "14/14 [==============================] - 108s 8s/step - loss: 0.0036 - acc: 0.9989 - val_loss: 7.5419e-06 - val_acc: 1.0000\n",
      "Epoch 18/20\n",
      "14/14 [==============================] - 109s 8s/step - loss: 0.3508 - acc: 0.9565 - val_loss: 0.0054 - val_acc: 1.0000\n",
      "Epoch 19/20\n",
      "14/14 [==============================] - 86s 6s/step - loss: 0.0105 - acc: 0.9967 - val_loss: 0.1864 - val_acc: 0.9592\n",
      "Epoch 20/20\n",
      "14/14 [==============================] - 88s 6s/step - loss: 0.0343 - acc: 0.9922 - val_loss: 2.0467e-04 - val_acc: 1.0000\n"
     ]
    }
   ],
   "source": [
    "from tensorflow.keras.applications.inception_v3 import InceptionV3\n",
    "from tensorflow.keras.preprocessing import image\n",
    "from tensorflow.keras.models import Model\n",
    "from tensorflow.keras.layers import Dense, GlobalAveragePooling2D, Input, Dropout\n",
    "\n",
    "input_tensor = Input(shape=(224, 224, 3))\n",
    "base_model = InceptionV3(input_tensor=input_tensor, weights='imagenet', include_top=False)\n",
    "x = base_model.output\n",
    "x = GlobalAveragePooling2D()(x)\n",
    "x = Dense(2048, activation='relu')(x)\n",
    "x = Dropout(0.25)(x)\n",
    "x = Dense(1024, activation='relu')(x)\n",
    "x = Dropout(0.2)(x)\n",
    "\n",
    "predictions = Dense(2, activation='softmax')(x)\n",
    "model = Model(inputs=base_model.input, outputs=predictions)\n",
    "for layer in base_model.layers:\n",
    "    layer.trainable = False\n",
    "model.compile(optimizer='rmsprop', loss='categorical_crossentropy', metrics=['acc'])\n",
    "history = model.fit(\n",
    "train_generator,\n",
    "steps_per_epoch = 14,\n",
    "epochs = 20,\n",
    "validation_data = validation_generator,\n",
    "validation_steps = 14)"
   ]
  },
  {
   "cell_type": "code",
   "execution_count": 3,
   "metadata": {},
   "outputs": [
    {
     "name": "stdout",
     "output_type": "stream",
     "text": [
      "Epoch 1/10\n",
      "14/14 [==============================] - 117s 8s/step - loss: 0.0668 - acc: 0.9860 - val_loss: 0.0165 - val_acc: 0.9949\n",
      "Epoch 2/10\n",
      "14/14 [==============================] - 116s 8s/step - loss: 0.0426 - acc: 0.9933 - val_loss: 4.5736e-04 - val_acc: 1.0000\n",
      "Epoch 3/10\n",
      "14/14 [==============================] - 118s 8s/step - loss: 0.0251 - acc: 0.9961 - val_loss: 0.0017 - val_acc: 1.0000\n",
      "Epoch 4/10\n",
      "14/14 [==============================] - 123s 9s/step - loss: 0.0265 - acc: 0.9955 - val_loss: 1.4548e-04 - val_acc: 1.0000\n",
      "Epoch 5/10\n",
      "14/14 [==============================] - 122s 9s/step - loss: 0.0193 - acc: 0.9978 - val_loss: 4.9043e-04 - val_acc: 1.0000\n",
      "Epoch 6/10\n",
      "14/14 [==============================] - 122s 9s/step - loss: 0.0152 - acc: 0.9983 - val_loss: 4.8630e-04 - val_acc: 1.0000\n",
      "Epoch 7/10\n",
      "14/14 [==============================] - 121s 9s/step - loss: 0.0176 - acc: 0.9967 - val_loss: 4.0172e-04 - val_acc: 1.0000\n",
      "Epoch 8/10\n",
      "14/14 [==============================] - 125s 9s/step - loss: 0.0166 - acc: 0.9972 - val_loss: 5.7037e-04 - val_acc: 1.0000\n",
      "Epoch 9/10\n",
      "14/14 [==============================] - 118s 8s/step - loss: 0.0182 - acc: 0.9955 - val_loss: 0.0073 - val_acc: 0.9949\n",
      "Epoch 10/10\n",
      "14/14 [==============================] - 109s 8s/step - loss: 0.0158 - acc: 0.9972 - val_loss: 6.9864e-04 - val_acc: 1.0000\n"
     ]
    }
   ],
   "source": [
    "#To train the top 2 inception blocks, freeze the first 249 layers and unfreeze the rest.\n",
    "for layer in model.layers[:249]:\n",
    "    layer.trainable = False\n",
    "for layer in model.layers[249:]:\n",
    "    layer.trainable = True\n",
    "    \n",
    "#Recompile the model for these modifications to take effect\n",
    "from tensorflow.keras.optimizers import SGD\n",
    "model.compile(optimizer=SGD(lr=0.0001, momentum=0.9), loss='categorical_crossentropy', metrics=['acc'])\n",
    "history = model.fit(\n",
    "train_generator,\n",
    "steps_per_epoch = 14,\n",
    "epochs = 10,\n",
    "validation_data = validation_generator,\n",
    "validation_steps = 14)"
   ]
  },
  {
   "cell_type": "code",
   "execution_count": 4,
   "metadata": {},
   "outputs": [
    {
     "data": {
      "image/png": "[encoded data removed]",
      "text/plain": [
       "<Figure size 432x288 with 1 Axes>"
      ]
     },
     "metadata": {
      "needs_background": "light"
     },
     "output_type": "display_data"
    },
    {
     "data": {
      "text/plain": [
       "<Figure size 432x288 with 0 Axes>"
      ]
     },
     "metadata": {},
     "output_type": "display_data"
    },
    {
     "data": {
      "image/png": "[encoded data removed]",
      "text/plain": [
       "<Figure size 432x288 with 1 Axes>"
      ]
     },
     "metadata": {
      "needs_background": "light"
     },
     "output_type": "display_data"
    },
    {
     "data": {
      "text/plain": [
       "<Figure size 432x288 with 0 Axes>"
      ]
     },
     "metadata": {},
     "output_type": "display_data"
    }
   ],
   "source": [
    "%matplotlib inline\n",
    "import matplotlib.pyplot as plt\n",
    "acc = history.history['acc']\n",
    "val_acc = history.history['val_acc']\n",
    "loss = history.history['loss']\n",
    "val_loss = history.history['val_loss']\n",
    "\n",
    "epochs = range(len(acc))\n",
    "\n",
    "plt.plot(epochs, acc, 'g', label='Training accuracy')\n",
    "plt.plot(epochs, val_acc, 'b', label='Validation accuracy')\n",
    "plt.title('Training and validation accuracy')\n",
    "\n",
    "plt.legend(loc=0)\n",
    "plt.figure()\n",
    "plt.show()\n",
    "\n",
    "plt.plot(epochs, loss, 'r', label='Training loss')\n",
    "plt.plot(epochs, val_loss, 'orange', label='Validation loss')\n",
    "plt.title('Training and validation loss')\n",
    "\n",
    "plt.legend(loc=0)\n",
    "plt.figure()\n",
    "plt.show()"
   ]
  },
  {
   "cell_type": "code",
   "execution_count": 14,
   "metadata": {},
   "outputs": [
    {
     "name": "stdout",
     "output_type": "stream",
     "text": [
      "True 0.6987745\n"
     ]
    }
   ],
   "source": [
    "#predicting any random image\n",
    "import numpy as np\n",
    "###from google.colab import files\n",
    "from keras.preprocessing import image\n",
    "\n",
    "###uploaded = files.upload()\n",
    "###for fn in uploaded.keys():\n",
    "  \n",
    "path = 'D:\\\\Deep Learning\\\\Fire Guard\\\\Dataset\\\\Kaggle-Fire-Detection\\\\99.jpg'\n",
    "img = image.load_img(path, target_size=(224, 224))\n",
    "x = image.img_to_array(img)\n",
    "x = np.expand_dims(x, axis=0) /255\n",
    "classes = model.predict(x)\n",
    "print(np.argmax(classes[0])==0, max(classes[0]))"
   ]
  },
  {
   "cell_type": "code",
   "execution_count": 16,
   "metadata": {},
   "outputs": [],
   "source": [
    "model.save('D:\\Deep Learning\\Fire Guard\\Trained Models\\InceptionV3.h5')"
   ]
  },
  {
   "cell_type": "code",
   "execution_count": null,
   "metadata": {},
   "outputs": [],
   "source": []
  }
 ],
 "metadata": {
  "kernelspec": {
   "display_name": "Python 3",
   "language": "python",
   "name": "python3"
  },
  "language_info": {
   "codemirror_mode": {
    "name": "ipython",
    "version": 3
   },
   "file_extension": ".py",
   "mimetype": "text/x-python",
   "name": "python",
   "nbconvert_exporter": "python",
   "pygments_lexer": "ipython3",
   "version": "3.6.4"
  }
 },
 "nbformat": 4,
 "nbformat_minor": 4
}
