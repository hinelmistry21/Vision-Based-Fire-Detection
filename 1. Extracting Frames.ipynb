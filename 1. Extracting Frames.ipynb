{
 "cells": [
  {
   "cell_type": "code",
   "execution_count": 1,
   "metadata": {},
   "outputs": [],
   "source": [
    "# Required Libraries\n",
    "\n",
    "import os\n",
    "import cv2"
   ]
  },
  {
   "cell_type": "code",
   "execution_count": 2,
   "metadata": {},
   "outputs": [],
   "source": [
    "# Videos file directory\n",
    "directory = 'D:\\Deep Learning\\Fire Guard\\Dataset\\Video'\n",
    "\n",
    "# os.listdir(directory) will return a list having all file inside that directory\n",
    "for video_name in os.listdir(directory):\n",
    "    \n",
    "    video_path = 'D:/Deep Learning/Fire Guard/Dataset/Video/' + video_name\n",
    "    video_capture_obj = cv2.VideoCapture(video_path)\n",
    "    \n",
    "    success, image =  video_capture_obj.read()    # VideoCapture.read() returns 'return value' and 'image'\n",
    "    \n",
    "    count = 0\n",
    "    while success:\n",
    "        cv2.imwrite(\"D:/Deep Learning/Fire Guard/Dataset/Frames/\" + video_name[:-4] + \"frame%d.jpg\"  % count, image)\n",
    "        success, image =  video_capture_obj.read()\n",
    "        count += 1\n",
    "        \n",
    "# video_name[:-4] is to get rid of the extention of the video file\n",
    "# In my case, it is '.avi'"
   ]
  },
  {
   "cell_type": "code",
   "execution_count": 3,
   "metadata": {},
   "outputs": [
    {
     "name": "stdout",
     "output_type": "stream",
     "text": [
      "OpenCV Version :  4.3.0\n"
     ]
    }
   ],
   "source": [
    "print(\"OpenCV Version : \", cv2.__version__)"
   ]
  },
  {
   "cell_type": "code",
   "execution_count": null,
   "metadata": {},
   "outputs": [],
   "source": []
  }
 ],
 "metadata": {
  "kernelspec": {
   "display_name": "Python 3",
   "language": "python",
   "name": "python3"
  },
  "language_info": {
   "codemirror_mode": {
    "name": "ipython",
    "version": 3
   },
   "file_extension": ".py",
   "mimetype": "text/x-python",
   "name": "python",
   "nbconvert_exporter": "python",
   "pygments_lexer": "ipython3",
   "version": "3.6.4"
  }
 },
 "nbformat": 4,
 "nbformat_minor": 4
}
